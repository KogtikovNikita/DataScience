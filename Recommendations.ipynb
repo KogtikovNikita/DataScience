{
 "cells": [
  {
   "cell_type": "code",
   "execution_count": 1,
   "metadata": {},
   "outputs": [],
   "source": [
    "import pandas as pd\n",
    "import numpy as np\n",
    "from datetime import datetime\n",
    "from tqdm import tqdm"
   ]
  },
  {
   "cell_type": "code",
   "execution_count": 2,
   "metadata": {},
   "outputs": [],
   "source": [
    "games = pd.read_csv(\"Video_Games.csv\", header=None, names = ['item', 'user', 'rating', 'timestamp'])"
   ]
  },
  {
   "cell_type": "code",
   "execution_count": 3,
   "metadata": {},
   "outputs": [
    {
     "data": {
      "text/html": [
       "<div>\n",
       "<style scoped>\n",
       "    .dataframe tbody tr th:only-of-type {\n",
       "        vertical-align: middle;\n",
       "    }\n",
       "\n",
       "    .dataframe tbody tr th {\n",
       "        vertical-align: top;\n",
       "    }\n",
       "\n",
       "    .dataframe thead th {\n",
       "        text-align: right;\n",
       "    }\n",
       "</style>\n",
       "<table border=\"1\" class=\"dataframe\">\n",
       "  <thead>\n",
       "    <tr style=\"text-align: right;\">\n",
       "      <th></th>\n",
       "      <th>item</th>\n",
       "      <th>user</th>\n",
       "      <th>rating</th>\n",
       "      <th>timestamp</th>\n",
       "    </tr>\n",
       "  </thead>\n",
       "  <tbody>\n",
       "    <tr>\n",
       "      <th>0</th>\n",
       "      <td>0439381673</td>\n",
       "      <td>A21ROB4YDOZA5P</td>\n",
       "      <td>1.0</td>\n",
       "      <td>1402272000</td>\n",
       "    </tr>\n",
       "    <tr>\n",
       "      <th>1</th>\n",
       "      <td>0439381673</td>\n",
       "      <td>A3TNZ2Q5E7HTHD</td>\n",
       "      <td>3.0</td>\n",
       "      <td>1399680000</td>\n",
       "    </tr>\n",
       "    <tr>\n",
       "      <th>2</th>\n",
       "      <td>0439381673</td>\n",
       "      <td>A1OKRM3QFEATQO</td>\n",
       "      <td>4.0</td>\n",
       "      <td>1391731200</td>\n",
       "    </tr>\n",
       "    <tr>\n",
       "      <th>3</th>\n",
       "      <td>0439381673</td>\n",
       "      <td>A2XO1JFCNEYV3T</td>\n",
       "      <td>1.0</td>\n",
       "      <td>1391731200</td>\n",
       "    </tr>\n",
       "    <tr>\n",
       "      <th>4</th>\n",
       "      <td>0439381673</td>\n",
       "      <td>A19WLPIRHD15TH</td>\n",
       "      <td>4.0</td>\n",
       "      <td>1389830400</td>\n",
       "    </tr>\n",
       "    <tr>\n",
       "      <th>...</th>\n",
       "      <td>...</td>\n",
       "      <td>...</td>\n",
       "      <td>...</td>\n",
       "      <td>...</td>\n",
       "    </tr>\n",
       "    <tr>\n",
       "      <th>2565344</th>\n",
       "      <td>B01HJEBIAA</td>\n",
       "      <td>ANGB54K3888S4</td>\n",
       "      <td>5.0</td>\n",
       "      <td>1533081600</td>\n",
       "    </tr>\n",
       "    <tr>\n",
       "      <th>2565345</th>\n",
       "      <td>B01HJEBIAA</td>\n",
       "      <td>A3TEVKR0ZVQB2T</td>\n",
       "      <td>5.0</td>\n",
       "      <td>1531785600</td>\n",
       "    </tr>\n",
       "    <tr>\n",
       "      <th>2565346</th>\n",
       "      <td>B01HJEBIAA</td>\n",
       "      <td>ABE7YPWEHNVJZ</td>\n",
       "      <td>5.0</td>\n",
       "      <td>1530835200</td>\n",
       "    </tr>\n",
       "    <tr>\n",
       "      <th>2565347</th>\n",
       "      <td>B01HJEBIAA</td>\n",
       "      <td>A3ES9QBK3G192O</td>\n",
       "      <td>5.0</td>\n",
       "      <td>1528761600</td>\n",
       "    </tr>\n",
       "    <tr>\n",
       "      <th>2565348</th>\n",
       "      <td>B01HJEBIAA</td>\n",
       "      <td>A194UPGR3OXZB7</td>\n",
       "      <td>5.0</td>\n",
       "      <td>1524096000</td>\n",
       "    </tr>\n",
       "  </tbody>\n",
       "</table>\n",
       "<p>2565349 rows × 4 columns</p>\n",
       "</div>"
      ],
      "text/plain": [
       "               item            user  rating   timestamp\n",
       "0        0439381673  A21ROB4YDOZA5P     1.0  1402272000\n",
       "1        0439381673  A3TNZ2Q5E7HTHD     3.0  1399680000\n",
       "2        0439381673  A1OKRM3QFEATQO     4.0  1391731200\n",
       "3        0439381673  A2XO1JFCNEYV3T     1.0  1391731200\n",
       "4        0439381673  A19WLPIRHD15TH     4.0  1389830400\n",
       "...             ...             ...     ...         ...\n",
       "2565344  B01HJEBIAA   ANGB54K3888S4     5.0  1533081600\n",
       "2565345  B01HJEBIAA  A3TEVKR0ZVQB2T     5.0  1531785600\n",
       "2565346  B01HJEBIAA   ABE7YPWEHNVJZ     5.0  1530835200\n",
       "2565347  B01HJEBIAA  A3ES9QBK3G192O     5.0  1528761600\n",
       "2565348  B01HJEBIAA  A194UPGR3OXZB7     5.0  1524096000\n",
       "\n",
       "[2565349 rows x 4 columns]"
      ]
     },
     "execution_count": 3,
     "metadata": {},
     "output_type": "execute_result"
    }
   ],
   "source": [
    "games"
   ]
  },
  {
   "cell_type": "code",
   "execution_count": 4,
   "metadata": {},
   "outputs": [
    {
     "data": {
      "text/plain": [
       "(71982, 1540618)"
      ]
     },
     "execution_count": 4,
     "metadata": {},
     "output_type": "execute_result"
    }
   ],
   "source": [
    "len(games['item'].unique()), len(games['user'].unique())"
   ]
  },
  {
   "cell_type": "code",
   "execution_count": 5,
   "metadata": {},
   "outputs": [
    {
     "data": {
      "text/plain": [
       "<matplotlib.axes._subplots.AxesSubplot at 0x27e28f166a0>"
      ]
     },
     "execution_count": 5,
     "metadata": {},
     "output_type": "execute_result"
    },
    {
     "data": {
      "image/png": "[encoded data removed]",
      "text/plain": [
       "<Figure size 432x288 with 1 Axes>"
      ]
     },
     "metadata": {
      "needs_background": "light"
     },
     "output_type": "display_data"
    }
   ],
   "source": [
    "games['rating'].hist()"
   ]
  },
  {
   "cell_type": "code",
   "execution_count": 6,
   "metadata": {},
   "outputs": [],
   "source": [
    "games['time'] = [datetime.fromtimestamp(i) for i in games['timestamp']]\n",
    "games.drop(['timestamp'], axis = 1, inplace = True)"
   ]
  },
  {
   "cell_type": "code",
   "execution_count": 7,
   "metadata": {},
   "outputs": [],
   "source": [
    "games = games.sort_values(['user', 'time']).reset_index()\n",
    "#games['index'] = range(games.shape[0])\n",
    "#games = games.set_index('index')"
   ]
  },
  {
   "cell_type": "code",
   "execution_count": 8,
   "metadata": {
    "scrolled": false
   },
   "outputs": [
    {
     "data": {
      "text/html": [
       "<div>\n",
       "<style scoped>\n",
       "    .dataframe tbody tr th:only-of-type {\n",
       "        vertical-align: middle;\n",
       "    }\n",
       "\n",
       "    .dataframe tbody tr th {\n",
       "        vertical-align: top;\n",
       "    }\n",
       "\n",
       "    .dataframe thead th {\n",
       "        text-align: right;\n",
       "    }\n",
       "</style>\n",
       "<table border=\"1\" class=\"dataframe\">\n",
       "  <thead>\n",
       "    <tr style=\"text-align: right;\">\n",
       "      <th></th>\n",
       "      <th>index</th>\n",
       "      <th>item</th>\n",
       "      <th>user</th>\n",
       "      <th>rating</th>\n",
       "      <th>time</th>\n",
       "    </tr>\n",
       "  </thead>\n",
       "  <tbody>\n",
       "    <tr>\n",
       "      <th>0</th>\n",
       "      <td>964569</td>\n",
       "      <td>B0053BCP40</td>\n",
       "      <td>A0002090WKEMAO8KOWKM</td>\n",
       "      <td>5.0</td>\n",
       "      <td>2013-09-25 08:00:00</td>\n",
       "    </tr>\n",
       "    <tr>\n",
       "      <th>1</th>\n",
       "      <td>1700163</td>\n",
       "      <td>B00ND0E604</td>\n",
       "      <td>A0002090WKEMAO8KOWKM</td>\n",
       "      <td>5.0</td>\n",
       "      <td>2014-12-03 08:00:00</td>\n",
       "    </tr>\n",
       "    <tr>\n",
       "      <th>2</th>\n",
       "      <td>1430577</td>\n",
       "      <td>B00FWK8UWI</td>\n",
       "      <td>A0003214FKMKJE0PCW3D</td>\n",
       "      <td>5.0</td>\n",
       "      <td>2014-10-29 08:00:00</td>\n",
       "    </tr>\n",
       "    <tr>\n",
       "      <th>3</th>\n",
       "      <td>1894725</td>\n",
       "      <td>B00ZJRHSRW</td>\n",
       "      <td>A0003492LQH8LJXPWDMZ</td>\n",
       "      <td>3.0</td>\n",
       "      <td>2018-04-27 08:00:00</td>\n",
       "    </tr>\n",
       "    <tr>\n",
       "      <th>4</th>\n",
       "      <td>1165426</td>\n",
       "      <td>B00AAS888S</td>\n",
       "      <td>A0005622E33Y7RCVKKVN</td>\n",
       "      <td>5.0</td>\n",
       "      <td>2015-10-19 08:00:00</td>\n",
       "    </tr>\n",
       "    <tr>\n",
       "      <th>...</th>\n",
       "      <td>...</td>\n",
       "      <td>...</td>\n",
       "      <td>...</td>\n",
       "      <td>...</td>\n",
       "      <td>...</td>\n",
       "    </tr>\n",
       "    <tr>\n",
       "      <th>2565344</th>\n",
       "      <td>2070370</td>\n",
       "      <td>B01C93CWSI</td>\n",
       "      <td>AZZYR0PRM4RBT</td>\n",
       "      <td>5.0</td>\n",
       "      <td>2017-01-02 08:00:00</td>\n",
       "    </tr>\n",
       "    <tr>\n",
       "      <th>2565345</th>\n",
       "      <td>2423004</td>\n",
       "      <td>B00BR0Q0GK</td>\n",
       "      <td>AZZZ9DDUPKNKC</td>\n",
       "      <td>3.0</td>\n",
       "      <td>2013-07-15 08:00:00</td>\n",
       "    </tr>\n",
       "    <tr>\n",
       "      <th>2565346</th>\n",
       "      <td>13090</td>\n",
       "      <td>B00000K2R4</td>\n",
       "      <td>AZZZEWADNFNUM</td>\n",
       "      <td>4.0</td>\n",
       "      <td>2001-08-10 08:00:00</td>\n",
       "    </tr>\n",
       "    <tr>\n",
       "      <th>2565347</th>\n",
       "      <td>1384221</td>\n",
       "      <td>B00ENFVJJO</td>\n",
       "      <td>AZZZOLOP9ZO8B</td>\n",
       "      <td>5.0</td>\n",
       "      <td>2018-05-08 08:00:00</td>\n",
       "    </tr>\n",
       "    <tr>\n",
       "      <th>2565348</th>\n",
       "      <td>2126099</td>\n",
       "      <td>B01G3H0BUC</td>\n",
       "      <td>AZZZOVIBXHGDR</td>\n",
       "      <td>3.0</td>\n",
       "      <td>2018-03-02 08:00:00</td>\n",
       "    </tr>\n",
       "  </tbody>\n",
       "</table>\n",
       "<p>2565349 rows × 5 columns</p>\n",
       "</div>"
      ],
      "text/plain": [
       "           index        item                  user  rating                time\n",
       "0         964569  B0053BCP40  A0002090WKEMAO8KOWKM     5.0 2013-09-25 08:00:00\n",
       "1        1700163  B00ND0E604  A0002090WKEMAO8KOWKM     5.0 2014-12-03 08:00:00\n",
       "2        1430577  B00FWK8UWI  A0003214FKMKJE0PCW3D     5.0 2014-10-29 08:00:00\n",
       "3        1894725  B00ZJRHSRW  A0003492LQH8LJXPWDMZ     3.0 2018-04-27 08:00:00\n",
       "4        1165426  B00AAS888S  A0005622E33Y7RCVKKVN     5.0 2015-10-19 08:00:00\n",
       "...          ...         ...                   ...     ...                 ...\n",
       "2565344  2070370  B01C93CWSI         AZZYR0PRM4RBT     5.0 2017-01-02 08:00:00\n",
       "2565345  2423004  B00BR0Q0GK         AZZZ9DDUPKNKC     3.0 2013-07-15 08:00:00\n",
       "2565346    13090  B00000K2R4         AZZZEWADNFNUM     4.0 2001-08-10 08:00:00\n",
       "2565347  1384221  B00ENFVJJO         AZZZOLOP9ZO8B     5.0 2018-05-08 08:00:00\n",
       "2565348  2126099  B01G3H0BUC         AZZZOVIBXHGDR     3.0 2018-03-02 08:00:00\n",
       "\n",
       "[2565349 rows x 5 columns]"
      ]
     },
     "execution_count": 8,
     "metadata": {},
     "output_type": "execute_result"
    }
   ],
   "source": [
    "games"
   ]
  },
  {
   "cell_type": "code",
   "execution_count": 9,
   "metadata": {},
   "outputs": [
    {
     "name": "stderr",
     "output_type": "stream",
     "text": [
      "100%|█████████████████████████████████████████████████████████████████████| 2565349/2565349 [03:29<00:00, 12223.83it/s]\n"
     ]
    }
   ],
   "source": [
    "number = []\n",
    "current = 1\n",
    "more_two = []\n",
    "x_train = []\n",
    "x_test = []\n",
    "y_train = []\n",
    "y_test = []\n",
    "for i in tqdm(range(games.shape[0])):\n",
    "    if i ==0:\n",
    "        continue\n",
    "    if games.loc[i, 'user'] == games.loc[i - 1, 'user']:\n",
    "        current = current + 1 \n",
    "    else:\n",
    "        number.append(current)\n",
    "        if current > 1:\n",
    "            all_purchases_current_customer = games.loc[i-current:i-1]\n",
    "            idx = int(len(all_purchases_current_customer) * 0.7)\n",
    "            for j in all_purchases_current_customer.index:\n",
    "                if j  < idx + all_purchases_current_customer.index.min():\n",
    "                    x_train.append({'item': all_purchases_current_customer.loc[j,'item'], 'user':\n",
    "                                   all_purchases_current_customer.loc[j,'user']})\n",
    "                    y_train.append({'rating': all_purchases_current_customer.loc[j,'rating']})\n",
    "                else:\n",
    "                    x_test.append({'item': all_purchases_current_customer.loc[j,'item'], 'user':\n",
    "                                   all_purchases_current_customer.loc[j,'user']})\n",
    "                    y_test.append({'rating': all_purchases_current_customer.loc[j,'rating']})\n",
    "        current = 1\n",
    "\n",
    "        "
   ]
  },
  {
   "cell_type": "code",
   "execution_count": 10,
   "metadata": {},
   "outputs": [],
   "source": [
    "x_test = pd.DataFrame(x_test)\n",
    "y_test = pd.DataFrame(y_test)\n",
    "x_train = pd.DataFrame(x_train)\n",
    "y_train = pd.DataFrame(y_train)"
   ]
  },
  {
   "cell_type": "code",
   "execution_count": 11,
   "metadata": {},
   "outputs": [
    {
     "data": {
      "text/html": [
       "<div>\n",
       "<style scoped>\n",
       "    .dataframe tbody tr th:only-of-type {\n",
       "        vertical-align: middle;\n",
       "    }\n",
       "\n",
       "    .dataframe tbody tr th {\n",
       "        vertical-align: top;\n",
       "    }\n",
       "\n",
       "    .dataframe thead th {\n",
       "        text-align: right;\n",
       "    }\n",
       "</style>\n",
       "<table border=\"1\" class=\"dataframe\">\n",
       "  <thead>\n",
       "    <tr style=\"text-align: right;\">\n",
       "      <th></th>\n",
       "      <th>item</th>\n",
       "      <th>user</th>\n",
       "    </tr>\n",
       "  </thead>\n",
       "  <tbody>\n",
       "    <tr>\n",
       "      <th>0</th>\n",
       "      <td>B0053BCP40</td>\n",
       "      <td>A0002090WKEMAO8KOWKM</td>\n",
       "    </tr>\n",
       "    <tr>\n",
       "      <th>1</th>\n",
       "      <td>B00AAS888S</td>\n",
       "      <td>A0005622E33Y7RCVKKVN</td>\n",
       "    </tr>\n",
       "    <tr>\n",
       "      <th>2</th>\n",
       "      <td>B00JF63SQI</td>\n",
       "      <td>A0005622E33Y7RCVKKVN</td>\n",
       "    </tr>\n",
       "    <tr>\n",
       "      <th>3</th>\n",
       "      <td>B0013E9HP6</td>\n",
       "      <td>A00065507CNSR8UHQFCK</td>\n",
       "    </tr>\n",
       "    <tr>\n",
       "      <th>4</th>\n",
       "      <td>B009NAVOMG</td>\n",
       "      <td>A0009060FA8P413511WS</td>\n",
       "    </tr>\n",
       "    <tr>\n",
       "      <th>...</th>\n",
       "      <td>...</td>\n",
       "      <td>...</td>\n",
       "    </tr>\n",
       "    <tr>\n",
       "      <th>846528</th>\n",
       "      <td>B01BYKK1PI</td>\n",
       "      <td>AZZWWSMIDFU6S</td>\n",
       "    </tr>\n",
       "    <tr>\n",
       "      <th>846529</th>\n",
       "      <td>B00AW6M8I4</td>\n",
       "      <td>AZZX21LHCW3HD</td>\n",
       "    </tr>\n",
       "    <tr>\n",
       "      <th>846530</th>\n",
       "      <td>B0069EB9CY</td>\n",
       "      <td>AZZX40NRMUDDQ</td>\n",
       "    </tr>\n",
       "    <tr>\n",
       "      <th>846531</th>\n",
       "      <td>B007MJSZDQ</td>\n",
       "      <td>AZZX40NRMUDDQ</td>\n",
       "    </tr>\n",
       "    <tr>\n",
       "      <th>846532</th>\n",
       "      <td>B00JUWYKMS</td>\n",
       "      <td>AZZXU7YH1947W</td>\n",
       "    </tr>\n",
       "  </tbody>\n",
       "</table>\n",
       "<p>846533 rows × 2 columns</p>\n",
       "</div>"
      ],
      "text/plain": [
       "              item                  user\n",
       "0       B0053BCP40  A0002090WKEMAO8KOWKM\n",
       "1       B00AAS888S  A0005622E33Y7RCVKKVN\n",
       "2       B00JF63SQI  A0005622E33Y7RCVKKVN\n",
       "3       B0013E9HP6  A00065507CNSR8UHQFCK\n",
       "4       B009NAVOMG  A0009060FA8P413511WS\n",
       "...            ...                   ...\n",
       "846528  B01BYKK1PI         AZZWWSMIDFU6S\n",
       "846529  B00AW6M8I4         AZZX21LHCW3HD\n",
       "846530  B0069EB9CY         AZZX40NRMUDDQ\n",
       "846531  B007MJSZDQ         AZZX40NRMUDDQ\n",
       "846532  B00JUWYKMS         AZZXU7YH1947W\n",
       "\n",
       "[846533 rows x 2 columns]"
      ]
     },
     "execution_count": 11,
     "metadata": {},
     "output_type": "execute_result"
    }
   ],
   "source": [
    "x_train"
   ]
  },
  {
   "cell_type": "code",
   "execution_count": 12,
   "metadata": {},
   "outputs": [],
   "source": [
    "x_train['rating'] = y_train['rating']"
   ]
  },
  {
   "cell_type": "code",
   "execution_count": 13,
   "metadata": {},
   "outputs": [],
   "source": [
    "from surprise import SVD\n",
    "from surprise import Dataset\n",
    "from surprise.model_selection import cross_validate\n",
    "from surprise import Reader\n",
    "from surprise import accuracy"
   ]
  },
  {
   "cell_type": "code",
   "execution_count": 14,
   "metadata": {
    "scrolled": true
   },
   "outputs": [],
   "source": [
    "reader = Reader(rating_scale=(1, 5))\n",
    "data = Dataset.load_from_df(x_train[['user', 'item', 'rating']], reader)\n",
    "algo = SVD()\n",
    "trainset = data.build_full_trainset()\n",
    "algo = algo.fit(trainset)"
   ]
  },
  {
   "cell_type": "code",
   "execution_count": 15,
   "metadata": {},
   "outputs": [],
   "source": [
    "x_test['rating'] = y_test['rating']\n",
    "users = x_test.user.values\n",
    "items = x_test.item.values\n",
    "ratings = x_test.rating.values\n",
    "test_data = []\n",
    "for i in range(len(users)):\n",
    "    test_data.append((users[i], items[i], ratings[i]))"
   ]
  },
  {
   "cell_type": "code",
   "execution_count": 16,
   "metadata": {},
   "outputs": [
    {
     "name": "stdout",
     "output_type": "stream",
     "text": [
      "RMSE: 1.1715\n"
     ]
    },
    {
     "data": {
      "text/plain": [
       "1.171494296832656"
      ]
     },
     "execution_count": 16,
     "metadata": {},
     "output_type": "execute_result"
    }
   ],
   "source": [
    "predictions = algo.test(test_data)\n",
    "accuracy.rmse(predictions)"
   ]
  }
 ],
 "metadata": {
  "kernelspec": {
   "display_name": "Python 3",
   "language": "python",
   "name": "python3"
  },
  "language_info": {
   "codemirror_mode": {
    "name": "ipython",
    "version": 3
   },
   "file_extension": ".py",
   "mimetype": "text/x-python",
   "name": "python",
   "nbconvert_exporter": "python",
   "pygments_lexer": "ipython3",
   "version": "3.8.3"
  }
 },
 "nbformat": 4,
 "nbformat_minor": 4
}
