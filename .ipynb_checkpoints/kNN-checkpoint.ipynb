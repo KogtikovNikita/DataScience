{
 "cells": [
  {
   "cell_type": "code",
   "execution_count": 52,
   "metadata": {},
   "outputs": [],
   "source": [
    "import pandas as pd\n",
    "import numpy as np\n",
    "import seaborn as sns\n",
    "from sklearn import datasets\n",
    "import matplotlib\n",
    "import matplotlib.pyplot as plt\n",
    "from sklearn.metrics import accuracy_score, precision_score, f1_score, recall_score"
   ]
  },
  {
   "cell_type": "code",
   "execution_count": 53,
   "metadata": {},
   "outputs": [
    {
     "data": {
      "text/html": [
       "<div>\n",
       "<style scoped>\n",
       "    .dataframe tbody tr th:only-of-type {\n",
       "        vertical-align: middle;\n",
       "    }\n",
       "\n",
       "    .dataframe tbody tr th {\n",
       "        vertical-align: top;\n",
       "    }\n",
       "\n",
       "    .dataframe thead th {\n",
       "        text-align: right;\n",
       "    }\n",
       "</style>\n",
       "<table border=\"1\" class=\"dataframe\">\n",
       "  <thead>\n",
       "    <tr style=\"text-align: right;\">\n",
       "      <th></th>\n",
       "      <th>radius_se</th>\n",
       "      <th>perimeter_worst</th>\n",
       "      <th>concavity_mean</th>\n",
       "      <th>compactness_worst</th>\n",
       "    </tr>\n",
       "  </thead>\n",
       "  <tbody>\n",
       "    <tr>\n",
       "      <th>count</th>\n",
       "      <td>569.000000</td>\n",
       "      <td>569.000000</td>\n",
       "      <td>569.000000</td>\n",
       "      <td>569.000000</td>\n",
       "    </tr>\n",
       "    <tr>\n",
       "      <th>mean</th>\n",
       "      <td>0.405172</td>\n",
       "      <td>107.261213</td>\n",
       "      <td>0.088799</td>\n",
       "      <td>0.254265</td>\n",
       "    </tr>\n",
       "    <tr>\n",
       "      <th>std</th>\n",
       "      <td>0.277313</td>\n",
       "      <td>33.602542</td>\n",
       "      <td>0.079720</td>\n",
       "      <td>0.157336</td>\n",
       "    </tr>\n",
       "    <tr>\n",
       "      <th>min</th>\n",
       "      <td>0.111500</td>\n",
       "      <td>50.410000</td>\n",
       "      <td>0.000000</td>\n",
       "      <td>0.027290</td>\n",
       "    </tr>\n",
       "    <tr>\n",
       "      <th>25%</th>\n",
       "      <td>0.232400</td>\n",
       "      <td>84.110000</td>\n",
       "      <td>0.029560</td>\n",
       "      <td>0.147200</td>\n",
       "    </tr>\n",
       "    <tr>\n",
       "      <th>50%</th>\n",
       "      <td>0.324200</td>\n",
       "      <td>97.660000</td>\n",
       "      <td>0.061540</td>\n",
       "      <td>0.211900</td>\n",
       "    </tr>\n",
       "    <tr>\n",
       "      <th>75%</th>\n",
       "      <td>0.478900</td>\n",
       "      <td>125.400000</td>\n",
       "      <td>0.130700</td>\n",
       "      <td>0.339100</td>\n",
       "    </tr>\n",
       "    <tr>\n",
       "      <th>max</th>\n",
       "      <td>2.873000</td>\n",
       "      <td>251.200000</td>\n",
       "      <td>0.426800</td>\n",
       "      <td>1.058000</td>\n",
       "    </tr>\n",
       "  </tbody>\n",
       "</table>\n",
       "</div>"
      ],
      "text/plain": [
       "        radius_se  perimeter_worst  concavity_mean  compactness_worst\n",
       "count  569.000000       569.000000      569.000000         569.000000\n",
       "mean     0.405172       107.261213        0.088799           0.254265\n",
       "std      0.277313        33.602542        0.079720           0.157336\n",
       "min      0.111500        50.410000        0.000000           0.027290\n",
       "25%      0.232400        84.110000        0.029560           0.147200\n",
       "50%      0.324200        97.660000        0.061540           0.211900\n",
       "75%      0.478900       125.400000        0.130700           0.339100\n",
       "max      2.873000       251.200000        0.426800           1.058000"
      ]
     },
     "execution_count": 53,
     "metadata": {},
     "output_type": "execute_result"
    }
   ],
   "source": [
    "df = pd.read_csv(\"BreastCancer.csv\", index_col='id')\n",
    "df.drop(['Unnamed: 32'], axis=1, inplace=True)\n",
    "df = df[['radius_se', 'perimeter_worst', 'concavity_mean', 'compactness_worst', 'diagnosis']]\n",
    "df['diagnosis'] = df['diagnosis'].map({'M': True, 'B': False})\n",
    "df.describe()"
   ]
  },
  {
   "cell_type": "markdown",
   "metadata": {},
   "source": [
    "We should normalize parameters because we have perimeter_worst parameter with range from 50.41 to 251.2.  The rest parameters are less than 2.87 (redius_se), 0.43 (concavity_mean) and 1.058 (compactness_worst). It means that the concavity_mean has the highest influence and the perimeter_worst has the lowest influence without normalization. However, we should normalize the data after separation into training and testing part and normalize each part independently. "
   ]
  },
  {
   "cell_type": "code",
   "execution_count": 54,
   "metadata": {},
   "outputs": [
    {
     "data": {
      "text/plain": [
       "(          radius_se  perimeter_worst  concavity_mean  compactness_worst\n",
       " id                                                                     \n",
       " 842302       1.0950           184.60         0.30010            0.66560\n",
       " 842517       0.5435           158.80         0.08690            0.18660\n",
       " 84300903     0.7456           152.50         0.19740            0.42450\n",
       " 84348301     0.4956            98.87         0.24140            0.86630\n",
       " 84358402     0.7572           152.20         0.19800            0.20500\n",
       " ...             ...              ...             ...                ...\n",
       " 926424       1.1760           166.10         0.24390            0.21130\n",
       " 926682       0.7655           155.00         0.14400            0.19220\n",
       " 926954       0.4564           126.70         0.09251            0.30940\n",
       " 927241       0.7260           184.60         0.35140            0.86810\n",
       " 92751        0.3857            59.16         0.00000            0.06444\n",
       " \n",
       " [569 rows x 4 columns],\n",
       " id\n",
       " 842302       True\n",
       " 842517       True\n",
       " 84300903     True\n",
       " 84348301     True\n",
       " 84358402     True\n",
       "             ...  \n",
       " 926424       True\n",
       " 926682       True\n",
       " 926954       True\n",
       " 927241       True\n",
       " 92751       False\n",
       " Name: diagnosis, Length: 569, dtype: bool)"
      ]
     },
     "execution_count": 54,
     "metadata": {},
     "output_type": "execute_result"
    }
   ],
   "source": [
    "X = df[['radius_se', 'perimeter_worst', 'concavity_mean', 'compactness_worst']]\n",
    "y = df['diagnosis']\n",
    "X, y"
   ]
  },
  {
   "cell_type": "code",
   "execution_count": 55,
   "metadata": {},
   "outputs": [
    {
     "data": {
      "text/plain": [
       "False    0.627417\n",
       "True     0.372583\n",
       "Name: diagnosis, dtype: float64"
      ]
     },
     "execution_count": 55,
     "metadata": {},
     "output_type": "execute_result"
    }
   ],
   "source": [
    "y.value_counts(normalize=True)"
   ]
  },
  {
   "cell_type": "code",
   "execution_count": 56,
   "metadata": {},
   "outputs": [
    {
     "data": {
      "text/plain": [
       "((398, 4), (171, 4), (398,), (171,))"
      ]
     },
     "execution_count": 56,
     "metadata": {},
     "output_type": "execute_result"
    }
   ],
   "source": [
    "from sklearn.model_selection import train_test_split\n",
    "X_train, X_test, y_train, y_test = train_test_split(X, y, test_size = 0.3, random_state = 18, stratify = y)\n",
    "X_train.shape, X_test.shape, y_train.shape, y_test.shape"
   ]
  },
  {
   "cell_type": "code",
   "execution_count": 57,
   "metadata": {},
   "outputs": [
    {
     "data": {
      "text/plain": [
       "False    0.628141\n",
       "True     0.371859\n",
       "Name: diagnosis, dtype: float64"
      ]
     },
     "execution_count": 57,
     "metadata": {},
     "output_type": "execute_result"
    }
   ],
   "source": [
    "y_train.value_counts(normalize=True)"
   ]
  },
  {
   "cell_type": "code",
   "execution_count": 58,
   "metadata": {},
   "outputs": [
    {
     "data": {
      "text/plain": [
       "False    0.625731\n",
       "True     0.374269\n",
       "Name: diagnosis, dtype: float64"
      ]
     },
     "execution_count": 58,
     "metadata": {},
     "output_type": "execute_result"
    }
   ],
   "source": [
    "y_test.value_counts(normalize=True)"
   ]
  },
  {
   "cell_type": "code",
   "execution_count": 59,
   "metadata": {},
   "outputs": [],
   "source": [
    "from sklearn.preprocessing import StandardScaler\n",
    "scaler = StandardScaler()\n",
    "X_train_scaled = scaler.fit_transform(X_train)\n",
    "X_test_scaled = scaler.fit_transform(X_test)"
   ]
  },
  {
   "cell_type": "code",
   "execution_count": 64,
   "metadata": {},
   "outputs": [
    {
     "name": "stdout",
     "output_type": "stream",
     "text": [
      "Accuracy Score: 0.935672514619883, Precision Score: 0.890625, Recall Score: 0.9344262295081968, F1 Score: 0.9120000000000001\n"
     ]
    }
   ],
   "source": [
    "from sklearn.neighbors import KNeighborsClassifier\n",
    "kNN = KNeighborsClassifier()\n",
    "kNN.fit(X_train_scaled, y_train)\n",
    "predict = kNN.predict(X_test_scaled)\n",
    "print (\"Accuracy Score: \" + str(accuracy_score(predict, y_test)) + \n",
    "        \", Precision Score: \" + str(precision_score(predict, y_test)) +\n",
    "        \", Recall Score: \" + str(recall_score(predict, y_test)) + \n",
    "        \", F1 Score: \" + str(f1_score(predict, y_test)))"
   ]
  },
  {
   "cell_type": "code",
   "execution_count": 67,
   "metadata": {},
   "outputs": [],
   "source": [
    "from sklearn import metrics"
   ]
  },
  {
   "cell_type": "code",
   "execution_count": 75,
   "metadata": {},
   "outputs": [
    {
     "data": {
      "image/png": "[encoded data removed]",
      "text/plain": [
       "<Figure size 432x288 with 1 Axes>"
      ]
     },
     "metadata": {
      "needs_background": "light"
     },
     "output_type": "display_data"
    }
   ],
   "source": [
    "y_true = y_test\n",
    "y_probas = kNN.predict(X_test_scaled)\n",
    "fpr, tpr, thresholds = metrics.roc_curve(y_true, y_probas, pos_label=0)\n",
    "plt.plot(fpr,tpr)\n",
    "plt.show() "
   ]
  },
  {
   "cell_type": "code",
   "execution_count": 77,
   "metadata": {},
   "outputs": [
    {
     "name": "stdout",
     "output_type": "stream",
     "text": [
      "area = 1.5900000000000003\n"
     ]
    }
   ],
   "source": [
    "from numpy import trapz\n",
    "area = trapz(y, dx=0.01)\n",
    "print(\"area =\", area)"
   ]
  },
  {
   "cell_type": "code",
   "execution_count": 83,
   "metadata": {},
   "outputs": [
    {
     "name": "stdout",
     "output_type": "stream",
     "text": [
      "Best neighbors: 9, Best metrics: 4\n"
     ]
    }
   ],
   "source": [
    "from sklearn.model_selection import GridSearchCV\n",
    "param_grid = {'n_neighbors': range(1,50), 'p':range(1,5)}\n",
    "knn = KNeighborsClassifier()\n",
    "grid_search =GridSearchCV(knn, param_grid, cv=5, scoring='recall')\n",
    "grid_search.fit(X_train_scaled, y_train)\n",
    "print (\"Best neighbors: \" + str(grid_search.best_estimator_.n_neighbors) + \", Best metrics: \" +\n",
    "      str(grid_search.best_estimator_.p))"
   ]
  },
  {
   "cell_type": "code",
   "execution_count": 84,
   "metadata": {},
   "outputs": [
    {
     "name": "stdout",
     "output_type": "stream",
     "text": [
      "Accuracy Score: 0.9473684210526315, Precision Score: 0.921875, Recall Score: 0.9365079365079365, F1 Score: 0.9291338582677166\n"
     ]
    }
   ],
   "source": [
    "kNN = KNeighborsClassifier(n_neighbors=9, p=4)\n",
    "kNN.fit(X_train_scaled, y_train)\n",
    "predict = kNN.predict(X_test_scaled)\n",
    "print (\"Accuracy Score: \" + str(accuracy_score(predict, y_test)) + \n",
    "        \", Precision Score: \" + str(precision_score(predict, y_test)) +\n",
    "        \", Recall Score: \" + str(recall_score(predict, y_test)) + \n",
    "        \", F1 Score: \" + str(f1_score(predict, y_test)))"
   ]
  },
  {
   "cell_type": "markdown",
   "metadata": {},
   "source": [
    "We used recall scoring because it is more important for us to decrease false negative predictions. Because if we have bad cancer and predict it as negative (prediction is good cancer), the price of mistake will be high. After cross-validation all parameter become higher, unfortunately, recall score has the lowest upgrade."
   ]
  },
  {
   "cell_type": "code",
   "execution_count": null,
   "metadata": {},
   "outputs": [],
   "source": []
  }
 ],
 "metadata": {
  "kernelspec": {
   "display_name": "Python 3",
   "language": "python",
   "name": "python3"
  },
  "language_info": {
   "codemirror_mode": {
    "name": "ipython",
    "version": 3
   },
   "file_extension": ".py",
   "mimetype": "text/x-python",
   "name": "python",
   "nbconvert_exporter": "python",
   "pygments_lexer": "ipython3",
   "version": "3.8.3"
  }
 },
 "nbformat": 4,
 "nbformat_minor": 4
}
